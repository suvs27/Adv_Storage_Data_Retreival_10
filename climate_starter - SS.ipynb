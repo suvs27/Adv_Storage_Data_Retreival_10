{
 "cells": [
  {
   "cell_type": "code",
   "execution_count": 371,
   "metadata": {},
   "outputs": [],
   "source": [
    "%matplotlib inline\n",
    "from matplotlib import style\n",
    "style.use('fivethirtyeight')\n",
    "import matplotlib.pyplot as plt\n",
    "from statistics import mean, median\n",
    "from scipy import stats\n",
    "from scipy.stats import sem, ttest_ind"
   ]
  },
  {
   "cell_type": "code",
   "execution_count": 372,
   "metadata": {},
   "outputs": [],
   "source": [
    "import numpy as np\n",
    "import pandas as pd"
   ]
  },
  {
   "cell_type": "code",
   "execution_count": 373,
   "metadata": {},
   "outputs": [],
   "source": [
    "import datetime as dt"
   ]
  },
  {
   "cell_type": "markdown",
   "metadata": {},
   "source": [
    "# Reflect Tables into SQLAlchemy ORM"
   ]
  },
  {
   "cell_type": "code",
   "execution_count": 374,
   "metadata": {},
   "outputs": [],
   "source": [
    "# Python SQL toolkit and Object Relational Mapper\n",
    "import sqlalchemy\n",
    "from sqlalchemy.ext.automap import automap_base\n",
    "from sqlalchemy.orm import Session\n",
    "from sqlalchemy import create_engine, func, inspect"
   ]
  },
  {
   "cell_type": "code",
   "execution_count": 375,
   "metadata": {},
   "outputs": [],
   "source": [
    "engine = create_engine(\"sqlite:///Resources/hawaii.sqlite\")"
   ]
  },
  {
   "cell_type": "code",
   "execution_count": 376,
   "metadata": {},
   "outputs": [],
   "source": [
    "# reflect an existing database into a new model\n",
    "Base = automap_base()\n",
    "# reflect the tables\n",
    "Base.prepare(engine, reflect=True)"
   ]
  },
  {
   "cell_type": "code",
   "execution_count": 377,
   "metadata": {},
   "outputs": [
    {
     "data": {
      "text/plain": [
       "['measurement', 'station']"
      ]
     },
     "execution_count": 377,
     "metadata": {},
     "output_type": "execute_result"
    }
   ],
   "source": [
    "# We can view all of the classes that automap found\n",
    "Base.classes.keys()"
   ]
  },
  {
   "cell_type": "code",
   "execution_count": 378,
   "metadata": {},
   "outputs": [],
   "source": [
    "# Save references to each table\n",
    "Measurement = Base.classes.measurement\n",
    "Station = Base.classes.station"
   ]
  },
  {
   "cell_type": "code",
   "execution_count": 379,
   "metadata": {},
   "outputs": [],
   "source": [
    "# Create our session (link) from Python to the DB\n",
    "session = Session(engine)"
   ]
  },
  {
   "cell_type": "code",
   "execution_count": 380,
   "metadata": {},
   "outputs": [
    {
     "data": {
      "text/plain": [
       "['measurement', 'station']"
      ]
     },
     "execution_count": 380,
     "metadata": {},
     "output_type": "execute_result"
    }
   ],
   "source": [
    "inspector = inspect(engine)\n",
    "inspector.get_table_names()"
   ]
  },
  {
   "cell_type": "code",
   "execution_count": 381,
   "metadata": {},
   "outputs": [
    {
     "name": "stdout",
     "output_type": "stream",
     "text": [
      "id INTEGER\n",
      "station TEXT\n",
      "date TEXT\n",
      "prcp FLOAT\n",
      "tobs FLOAT\n"
     ]
    }
   ],
   "source": [
    "# Get a list of column names and types\n",
    "columns = inspector.get_columns('measurement')\n",
    "for c in columns:\n",
    "    print(c['name'], c[\"type\"])\n",
    "# columns"
   ]
  },
  {
   "cell_type": "code",
   "execution_count": 382,
   "metadata": {},
   "outputs": [
    {
     "name": "stdout",
     "output_type": "stream",
     "text": [
      "id INTEGER\n",
      "station TEXT\n",
      "name TEXT\n",
      "latitude FLOAT\n",
      "longitude FLOAT\n",
      "elevation FLOAT\n"
     ]
    }
   ],
   "source": [
    "# Get a list of column names and types\n",
    "columns = inspector.get_columns('station')\n",
    "for c in columns:\n",
    "    print(c['name'], c[\"type\"])\n",
    "# columns"
   ]
  },
  {
   "cell_type": "markdown",
   "metadata": {},
   "source": [
    "# Exploratory Climate Analysis"
   ]
  },
  {
   "cell_type": "code",
   "execution_count": 383,
   "metadata": {},
   "outputs": [],
   "source": [
    "# Design a query to retrieve the last 12 months of precipitation data and plot the results\n",
    "\n",
    "# Calculate the date 1 year ago from the last data point in the database\n",
    "\n",
    "# Perform a query to retrieve the data and precipitation scores\n",
    "\n",
    "# Save the query results as a Pandas DataFrame and set the index to the date column\n",
    "\n",
    "# Sort the dataframe by date\n",
    "\n",
    "# Use Pandas Plotting with Matplotlib to plot the data\n"
   ]
  },
  {
   "cell_type": "code",
   "execution_count": 384,
   "metadata": {},
   "outputs": [
    {
     "name": "stdout",
     "output_type": "stream",
     "text": [
      "2016-08-23\n"
     ]
    }
   ],
   "source": [
    "# Calculate the date 1 year ago from the last data point in the database\n",
    "last_date = session.query(Measurement.date).order_by(Measurement.date.desc()).first()\n",
    "last_date\n",
    "query_date = dt.date(2017, 8, 23) - dt.timedelta(days=365)\n",
    "print(query_date)\n"
   ]
  },
  {
   "cell_type": "code",
   "execution_count": 385,
   "metadata": {
    "scrolled": false
   },
   "outputs": [],
   "source": [
    "# Perform a query to retrieve the data and precipitation scores\n",
    "prcp_data = session.query(Measurement.date, Measurement.prcp).\\\n",
    "            filter(Measurement.date >= query_date).all()\n",
    "\n",
    "#prcp_data\n",
    "\n",
    "\n",
    "\n"
   ]
  },
  {
   "cell_type": "code",
   "execution_count": 386,
   "metadata": {},
   "outputs": [
    {
     "data": {
      "text/html": [
       "<div>\n",
       "<style scoped>\n",
       "    .dataframe tbody tr th:only-of-type {\n",
       "        vertical-align: middle;\n",
       "    }\n",
       "\n",
       "    .dataframe tbody tr th {\n",
       "        vertical-align: top;\n",
       "    }\n",
       "\n",
       "    .dataframe thead th {\n",
       "        text-align: right;\n",
       "    }\n",
       "</style>\n",
       "<table border=\"1\" class=\"dataframe\">\n",
       "  <thead>\n",
       "    <tr style=\"text-align: right;\">\n",
       "      <th></th>\n",
       "      <th>dates</th>\n",
       "      <th>precipitation</th>\n",
       "    </tr>\n",
       "  </thead>\n",
       "  <tbody>\n",
       "    <tr>\n",
       "      <th>0</th>\n",
       "      <td>2016-08-23</td>\n",
       "      <td>0.00</td>\n",
       "    </tr>\n",
       "    <tr>\n",
       "      <th>1</th>\n",
       "      <td>2016-08-24</td>\n",
       "      <td>0.08</td>\n",
       "    </tr>\n",
       "    <tr>\n",
       "      <th>2</th>\n",
       "      <td>2016-08-25</td>\n",
       "      <td>0.08</td>\n",
       "    </tr>\n",
       "    <tr>\n",
       "      <th>3</th>\n",
       "      <td>2016-08-26</td>\n",
       "      <td>0.00</td>\n",
       "    </tr>\n",
       "    <tr>\n",
       "      <th>4</th>\n",
       "      <td>2016-08-27</td>\n",
       "      <td>0.00</td>\n",
       "    </tr>\n",
       "  </tbody>\n",
       "</table>\n",
       "</div>"
      ],
      "text/plain": [
       "        dates  precipitation\n",
       "0  2016-08-23           0.00\n",
       "1  2016-08-24           0.08\n",
       "2  2016-08-25           0.08\n",
       "3  2016-08-26           0.00\n",
       "4  2016-08-27           0.00"
      ]
     },
     "execution_count": 386,
     "metadata": {},
     "output_type": "execute_result"
    }
   ],
   "source": [
    "# Save the query results as a Pandas DataFrame and set the index to the date column\n",
    "\n",
    "prcp_df = pd.DataFrame(prcp_data, columns=['dates', 'precipitation'])\n",
    "prcp_df\n",
    "#prcp_df2 = prcp_df.set_index(\"dates\", inplace=True)\n",
    "prcp_df2 = prcp_df.dropna(how='any')\n",
    "prcp_df2.head()\n"
   ]
  },
  {
   "cell_type": "code",
   "execution_count": 387,
   "metadata": {},
   "outputs": [
    {
     "data": {
      "text/plain": [
       "<matplotlib.legend.Legend at 0x216d9a1c048>"
      ]
     },
     "execution_count": 387,
     "metadata": {},
     "output_type": "execute_result"
    },
    {
     "data": {
      "image/png": "[encoded data removed]",
      "text/plain": [
       "<Figure size 1224x720 with 1 Axes>"
      ]
     },
     "metadata": {},
     "output_type": "display_data"
    }
   ],
   "source": [
    "# Use Pandas Plotting with Matplotlib to plot the data\n",
    "fig, ax = plt.subplots()\n",
    "fig.set_figheight(10)\n",
    "fig.set_figwidth(17)\n",
    "ax.get_xaxis().set_ticks([])\n",
    "plt.xlabel(\"date\")\n",
    "ax.bar(prcp_df2['dates'], prcp_df2['precipitation'], color = \"blue\", label=\"precipitation\")\n",
    "ax.grid(True)\n",
    "ax.legend(loc=\"upper center\")"
   ]
  },
  {
   "cell_type": "markdown",
   "metadata": {},
   "source": [
    "![precipitation](Images/precipitation.png)"
   ]
  },
  {
   "cell_type": "code",
   "execution_count": 388,
   "metadata": {},
   "outputs": [
    {
     "data": {
      "text/html": [
       "<div>\n",
       "<style scoped>\n",
       "    .dataframe tbody tr th:only-of-type {\n",
       "        vertical-align: middle;\n",
       "    }\n",
       "\n",
       "    .dataframe tbody tr th {\n",
       "        vertical-align: top;\n",
       "    }\n",
       "\n",
       "    .dataframe thead th {\n",
       "        text-align: right;\n",
       "    }\n",
       "</style>\n",
       "<table border=\"1\" class=\"dataframe\">\n",
       "  <thead>\n",
       "    <tr style=\"text-align: right;\">\n",
       "      <th></th>\n",
       "      <th>precipitation</th>\n",
       "    </tr>\n",
       "  </thead>\n",
       "  <tbody>\n",
       "    <tr>\n",
       "      <th>count</th>\n",
       "      <td>2021.000000</td>\n",
       "    </tr>\n",
       "    <tr>\n",
       "      <th>mean</th>\n",
       "      <td>0.177279</td>\n",
       "    </tr>\n",
       "    <tr>\n",
       "      <th>std</th>\n",
       "      <td>0.461190</td>\n",
       "    </tr>\n",
       "    <tr>\n",
       "      <th>min</th>\n",
       "      <td>0.000000</td>\n",
       "    </tr>\n",
       "    <tr>\n",
       "      <th>25%</th>\n",
       "      <td>0.000000</td>\n",
       "    </tr>\n",
       "    <tr>\n",
       "      <th>50%</th>\n",
       "      <td>0.020000</td>\n",
       "    </tr>\n",
       "    <tr>\n",
       "      <th>75%</th>\n",
       "      <td>0.130000</td>\n",
       "    </tr>\n",
       "    <tr>\n",
       "      <th>max</th>\n",
       "      <td>6.700000</td>\n",
       "    </tr>\n",
       "  </tbody>\n",
       "</table>\n",
       "</div>"
      ],
      "text/plain": [
       "       precipitation\n",
       "count    2021.000000\n",
       "mean        0.177279\n",
       "std         0.461190\n",
       "min         0.000000\n",
       "25%         0.000000\n",
       "50%         0.020000\n",
       "75%         0.130000\n",
       "max         6.700000"
      ]
     },
     "execution_count": 388,
     "metadata": {},
     "output_type": "execute_result"
    }
   ],
   "source": [
    "# Use Pandas to calcualte the summary statistics for the precipitation data\n",
    "prcp_df2.describe()"
   ]
  },
  {
   "cell_type": "markdown",
   "metadata": {},
   "source": [
    "![describe](Images/describe.png)"
   ]
  },
  {
   "cell_type": "code",
   "execution_count": 389,
   "metadata": {},
   "outputs": [
    {
     "data": {
      "text/plain": [
       "9"
      ]
     },
     "execution_count": 389,
     "metadata": {},
     "output_type": "execute_result"
    }
   ],
   "source": [
    "# Design a query to show how many stations are available in this dataset?\n",
    "session.query(Station.id).count()"
   ]
  },
  {
   "cell_type": "code",
   "execution_count": 390,
   "metadata": {},
   "outputs": [
    {
     "data": {
      "text/plain": [
       "station\n",
       "USC00519281    2772\n",
       "USC00519397    2724\n",
       "USC00513117    2709\n",
       "USC00519523    2669\n",
       "USC00516128    2612\n",
       "USC00514830    2202\n",
       "USC00511918    1979\n",
       "USC00517948    1372\n",
       "USC00518838     511\n",
       "Name: station, dtype: int64"
      ]
     },
     "execution_count": 390,
     "metadata": {},
     "output_type": "execute_result"
    }
   ],
   "source": [
    "# What are the most active stations? (i.e. what stations have the most rows)?\n",
    "# List the stations and the counts in descending order.\n",
    "hm_df = pd.read_csv(\"Resources/hawaii_measurements.csv\")\n",
    "hm_df\n",
    "\n",
    "sel = [Station.id, Station.station, Station.name, Station.latitude, Station.longitude, Station.elevation]\n",
    "station_data = session.query(*sel).all()\n",
    "station_data\n",
    "\n",
    "station_df = pd.DataFrame(station_data, columns=['id', 'station', 'name', 'latitude', 'longitude', 'elevation'])\n",
    "station_df\n",
    "\n",
    "merge_table = pd.merge(station_df, hm_df, on=\"station\")\n",
    "merge_table\n",
    "\n",
    "grouped_station = merge_table.groupby(['station'])\n",
    "grouped_station.count().head(10)\n",
    "\n",
    "grouped_station[\"station\"].count().sort_values(ascending=False)"
   ]
  },
  {
   "cell_type": "code",
   "execution_count": 391,
   "metadata": {},
   "outputs": [
    {
     "name": "stdout",
     "output_type": "stream",
     "text": [
      "54 85 71.66378066378067\n"
     ]
    }
   ],
   "source": [
    "# Using the station id from the previous query, calculate the lowest temperature recorded, \n",
    "# highest temperature recorded, and average temperature most active station?\n",
    "\n",
    "\n",
    "df519281 = merge_table.loc[merge_table[\"station\"] == \"USC00519281\", :]\n",
    "df519281.set_index(\"station\", inplace=True)\n",
    "\n",
    "#prcp_df2 = prcp_df.set_index(\"dates\", inplace=True)\n",
    "min_temp = df519281[\"tobs\"].min()\n",
    "max_temp = df519281[\"tobs\"].max()\n",
    "avg_temp = df519281[\"tobs\"].mean()\n",
    "\n",
    "print(min_temp, max_temp, avg_temp)\n",
    "\n",
    "\n"
   ]
  },
  {
   "cell_type": "code",
   "execution_count": 392,
   "metadata": {},
   "outputs": [
    {
     "name": "stdout",
     "output_type": "stream",
     "text": [
      "2010-01-01 2017-08-18\n"
     ]
    }
   ],
   "source": [
    "min_date = df519281[\"date\"].min()\n",
    "max_date = df519281[\"date\"].max()\n",
    "print(min_date, max_date)"
   ]
  },
  {
   "cell_type": "code",
   "execution_count": 393,
   "metadata": {},
   "outputs": [
    {
     "data": {
      "text/html": [
       "<div>\n",
       "<style scoped>\n",
       "    .dataframe tbody tr th:only-of-type {\n",
       "        vertical-align: middle;\n",
       "    }\n",
       "\n",
       "    .dataframe tbody tr th {\n",
       "        vertical-align: top;\n",
       "    }\n",
       "\n",
       "    .dataframe thead th {\n",
       "        text-align: right;\n",
       "    }\n",
       "</style>\n",
       "<table border=\"1\" class=\"dataframe\">\n",
       "  <thead>\n",
       "    <tr style=\"text-align: right;\">\n",
       "      <th></th>\n",
       "      <th>id</th>\n",
       "      <th>name</th>\n",
       "      <th>latitude</th>\n",
       "      <th>longitude</th>\n",
       "      <th>elevation</th>\n",
       "      <th>date</th>\n",
       "      <th>prcp</th>\n",
       "      <th>tobs</th>\n",
       "    </tr>\n",
       "    <tr>\n",
       "      <th>station</th>\n",
       "      <th></th>\n",
       "      <th></th>\n",
       "      <th></th>\n",
       "      <th></th>\n",
       "      <th></th>\n",
       "      <th></th>\n",
       "      <th></th>\n",
       "      <th></th>\n",
       "    </tr>\n",
       "  </thead>\n",
       "  <tbody>\n",
       "    <tr>\n",
       "      <th>USC00519281</th>\n",
       "      <td>7</td>\n",
       "      <td>WAIHEE 837.5, HI US</td>\n",
       "      <td>21.45167</td>\n",
       "      <td>-157.84889</td>\n",
       "      <td>32.9</td>\n",
       "      <td>2016-08-18</td>\n",
       "      <td>0.00</td>\n",
       "      <td>80</td>\n",
       "    </tr>\n",
       "    <tr>\n",
       "      <th>USC00519281</th>\n",
       "      <td>7</td>\n",
       "      <td>WAIHEE 837.5, HI US</td>\n",
       "      <td>21.45167</td>\n",
       "      <td>-157.84889</td>\n",
       "      <td>32.9</td>\n",
       "      <td>2016-08-19</td>\n",
       "      <td>0.31</td>\n",
       "      <td>79</td>\n",
       "    </tr>\n",
       "    <tr>\n",
       "      <th>USC00519281</th>\n",
       "      <td>7</td>\n",
       "      <td>WAIHEE 837.5, HI US</td>\n",
       "      <td>21.45167</td>\n",
       "      <td>-157.84889</td>\n",
       "      <td>32.9</td>\n",
       "      <td>2016-08-20</td>\n",
       "      <td>0.13</td>\n",
       "      <td>81</td>\n",
       "    </tr>\n",
       "    <tr>\n",
       "      <th>USC00519281</th>\n",
       "      <td>7</td>\n",
       "      <td>WAIHEE 837.5, HI US</td>\n",
       "      <td>21.45167</td>\n",
       "      <td>-157.84889</td>\n",
       "      <td>32.9</td>\n",
       "      <td>2016-08-21</td>\n",
       "      <td>0.08</td>\n",
       "      <td>79</td>\n",
       "    </tr>\n",
       "    <tr>\n",
       "      <th>USC00519281</th>\n",
       "      <td>7</td>\n",
       "      <td>WAIHEE 837.5, HI US</td>\n",
       "      <td>21.45167</td>\n",
       "      <td>-157.84889</td>\n",
       "      <td>32.9</td>\n",
       "      <td>2016-08-22</td>\n",
       "      <td>2.32</td>\n",
       "      <td>78</td>\n",
       "    </tr>\n",
       "  </tbody>\n",
       "</table>\n",
       "</div>"
      ],
      "text/plain": [
       "             id                 name  latitude  longitude  elevation  \\\n",
       "station                                                                \n",
       "USC00519281   7  WAIHEE 837.5, HI US  21.45167 -157.84889       32.9   \n",
       "USC00519281   7  WAIHEE 837.5, HI US  21.45167 -157.84889       32.9   \n",
       "USC00519281   7  WAIHEE 837.5, HI US  21.45167 -157.84889       32.9   \n",
       "USC00519281   7  WAIHEE 837.5, HI US  21.45167 -157.84889       32.9   \n",
       "USC00519281   7  WAIHEE 837.5, HI US  21.45167 -157.84889       32.9   \n",
       "\n",
       "                   date  prcp  tobs  \n",
       "station                              \n",
       "USC00519281  2016-08-18  0.00    80  \n",
       "USC00519281  2016-08-19  0.31    79  \n",
       "USC00519281  2016-08-20  0.13    81  \n",
       "USC00519281  2016-08-21  0.08    79  \n",
       "USC00519281  2016-08-22  2.32    78  "
      ]
     },
     "execution_count": 393,
     "metadata": {},
     "output_type": "execute_result"
    }
   ],
   "source": [
    "start_date = '2016-08-18'\n",
    "end_date = '2017-08-18'\n",
    "mask = (df519281['date'] >= start_date) & (df519281['date'] <= end_date)\n",
    "df519281_12 = df519281.loc[mask]\n",
    "df519281_12.head()\n",
    "\n",
    "\n"
   ]
  },
  {
   "cell_type": "code",
   "execution_count": 394,
   "metadata": {},
   "outputs": [
    {
     "data": {
      "text/plain": [
       "<matplotlib.legend.Legend at 0x216d5f32a20>"
      ]
     },
     "execution_count": 394,
     "metadata": {},
     "output_type": "execute_result"
    },
    {
     "data": {
      "image/png": "[encoded data removed]",
      "text/plain": [
       "<Figure size 432x288 with 1 Axes>"
      ]
     },
     "metadata": {},
     "output_type": "display_data"
    }
   ],
   "source": [
    "# Choose the station with the highest number of temperature observations.\n",
    "# Query the last 12 months of temperature observation data for this station and plot the results as a histogram\n",
    "# Create the bins in which Data will be held\n",
    "\n",
    "x_axis = df519281_12[\"tobs\"].values\n",
    "plt.hist(x_axis, bins=12, label=\"tobs\")\n",
    "plt.ylabel(\"Frequency\")\n",
    "plt.legend()\n"
   ]
  },
  {
   "cell_type": "markdown",
   "metadata": {},
   "source": [
    "![precipitation](Images/station-histogram.png)"
   ]
  },
  {
   "cell_type": "code",
   "execution_count": 395,
   "metadata": {},
   "outputs": [],
   "source": [
    "# just doing some testing here for the flask app, please ignore\n",
    "\n",
    "#session = Session(engine)\n",
    "#results = session.query(Measurement.date, Measurement.prcp).\\\n",
    "        #filter(Measurement.date >= dt.date(2016, 8, 23)).all()\n",
    "\n",
    "\n",
    "#results\n",
    "\n",
    "#precipitation = []\n",
    "#for date, prcp in results:\n",
    "    #prcp_dict = {}\n",
    "    #prcp_dict[\"date\"] = date\n",
    "    #prcp_dict[\"precipitation\"] = prcp\n",
    "    #precipitation.append(prcp_dict)\n",
    "   \n",
    "# --------------------------------------------------------------------------------------------------------------\n",
    "\n",
    "#import os\n",
    "#import csv\n",
    "#csvpath = ('Resources\\hawaii_measurements.csv')\n",
    "\n",
    "#session = Session(engine)\n",
    "#results = session.query(Station.name, Station.station).all()\n",
    "\n",
    "# Convert list of tuples into normal list\n",
    "#all_names = (results)\n",
    "#print(all_names)\n",
    "\n",
    "#with open(csvpath, newline='') as csvfile:\n",
    "    \n",
    "    #CSV reader specifies delimiter and variable that holds contents\n",
    "    #csvreader = csv.reader(csvfile, delimiter=',')\n",
    "\n",
    "    #print(csvreader)\n",
    "\n",
    "    #Read the header row first (skip this step if there is now header)\n",
    "    #csv_header = next(csvreader)\n",
    "    #print(f\"CSV Header: {csv_header}\")\n",
    "    \n",
    "    #tobs = []\n",
    "     # Read each row of data after the header\n",
    "    #for row in csvreader:\n",
    "        #print(row)\n",
    "        #print(dt.datetime.strptime(row[1], '%Y-%m-%d'))\n",
    "        #if dt.datetime.strptime(row[1], '%Y-%m-%d') >= dt.datetime(2016,8,18):\n",
    "            #tobs_dict = {}\n",
    "            #tobs_dict[\"date\"] = row[1]\n",
    "            #tobs_dict[\"tobs\"] = row[3]\n",
    "            #tobs.append(tobs_dict)\n",
    "        \n",
    "#station_name = session.query(Station.name).\\\n",
    "           #filter(row[0]==Station.station).all()\n",
    "\n",
    "#print(station_name)\n",
    "\n",
    "# ------------------------------------------------------------------------------------------------------------\n",
    "\n",
    "#import os\n",
    "#import csv\n",
    "#from statistics import mean, median\n",
    "#import datetime as dt\n",
    "#csvpath = ('Resources\\hawaii_measurements.csv')\n",
    "\n",
    "#with open(csvpath, newline='') as csvfile:\n",
    "\n",
    "    # CSV reader specifies delimiter and variable that holds contents\n",
    "    #csvreader = csv.reader(csvfile, delimiter=',')\n",
    "\n",
    "    # Read the header row first (skip this step if there is now header)\n",
    "    #csv_header = next(csvreader)\n",
    "           \n",
    "    #temp_stats = {}\n",
    "    #temp_calc = []\n",
    "    #start_date = \"2017-8-20\"\n",
    "    #x = dt.datetime.strptime(start_date, '%Y-%m-%d' )\n",
    "    #print(x)\n",
    "        \n",
    "    # Read each row of data after the header\n",
    "    #for row in csvreader:\n",
    "        #print(row)\n",
    "        #if (dt.datetime.strptime(row[1], '%Y-%m-%d') >= dt.datetime.strptime(start_date, '%Y-%m-%d' )):\n",
    "            #print(row[1])\n",
    "           # temp_calc.append(int(row[3]))\n",
    "    #print(temp_calc)\n",
    "    #max_temp = max(temp_calc)\n",
    "    #min_temp = min(temp_calc)\n",
    "    #mean_temp = mean(temp_calc)\n",
    "    #temp_stats.update({\"max_temp\": max_temp, \"min_temp\": min_temp, \"mean\":mean_temp})\n",
    "    \n",
    "  \n",
    "    #print(temp_stats)\n",
    "\n"
   ]
  },
  {
   "cell_type": "code",
   "execution_count": 396,
   "metadata": {},
   "outputs": [
    {
     "name": "stdout",
     "output_type": "stream",
     "text": [
      "The average temperature in June is 74.94411764705882 and the averge temperature in December is 71.04152933421226\n"
     ]
    },
    {
     "data": {
      "text/plain": [
       "Ttest_indResult(statistic=30.865349991562194, pvalue=9.8415346259008e-182)"
      ]
     },
     "execution_count": 396,
     "metadata": {},
     "output_type": "execute_result"
    }
   ],
   "source": [
    "# Optional Analysis - Temperature Analysis I\n",
    "#hm_df\n",
    "hm_df_sorted = hm_df.sort_values(\"date\")\n",
    "hm_df_sorted\n",
    "\n",
    "hm_df_sorted['date'] = pd.to_datetime(hm_df_sorted['date'],format=\"%Y/%m/%d\")\n",
    "hm_df_sorted['date'].dtype\n",
    "        \n",
    "hm_df_sorted['month_of_date'] = hm_df_sorted['date'].dt.month\n",
    "hm_df_sorted\n",
    "\n",
    "grouped_hm_df_sorted = hm_df_sorted.groupby(['month_of_date'])\n",
    "\n",
    "avg_temp_df = pd.DataFrame(grouped_hm_df_sorted.mean().head(12))\n",
    "avg_temp_df\n",
    "avg_temp_june = float(avg_temp_df.loc[6, \"tobs\"])\n",
    "avg_temp_dec = float(avg_temp_df.loc[12, \"tobs\"])\n",
    "print(f\"The average temperature in June is {avg_temp_june} and the averge temperature in December is {avg_temp_dec}\")\n",
    "\n",
    "hm_df_sorted\n",
    "hm_df_sorted2 = hm_df_sorted.dropna(how='any')\n",
    "\n",
    "cat1 = hm_df_sorted2[hm_df_sorted2['month_of_date']==6]\n",
    "cat2 = hm_df_sorted2[hm_df_sorted2['month_of_date']==12]\n",
    "\n",
    "\n",
    "ttest_ind(cat1['tobs'], cat2['tobs'])\n",
    "\n",
    "#You would use a paired t-test because the samples in the different months are taken from the same set of stations.\n",
    "#Based on the p-value, the differences between the average temperature in june and december are not significant."
   ]
  },
  {
   "cell_type": "code",
   "execution_count": 397,
   "metadata": {},
   "outputs": [],
   "source": [
    "def calc_temps(start_date, end_date):\n",
    "\n",
    "    sd = dt.datetime.strptime(start_date, '%Y-%m-%d')\n",
    "    ed = dt.datetime.strptime(end_date, '%Y-%m-%d')\n",
    "\n",
    "    hm2 = pd.DataFrame(hm_df_sorted[['date','tobs']])\n",
    "    hm2['date'] = pd.to_datetime(hm2['date'],format=\"%Y/%m/%d\")\n",
    "\n",
    "    hm3 = pd.DataFrame(hm2.loc[(hm2[\"date\"] >= sd) & (hm2[\"date\"] <= ed), : ])\n",
    "\n",
    "    hm3_min = hm3[\"tobs\"].min()\n",
    "    hm3_max = hm3[\"tobs\"].max()\n",
    "    hm3_mean = hm3[\"tobs\"].mean()\n",
    "    stats_dict = {\"Min\": hm3_min, \"Max\": hm3_max, \"Avg\": hm3_mean}\n",
    "    return stats_dict\n",
    "\n"
   ]
  },
  {
   "cell_type": "code",
   "execution_count": 398,
   "metadata": {},
   "outputs": [
    {
     "data": {
      "text/plain": [
       "{'Min': 62, 'Max': 74, 'Avg': 69.57142857142857}"
      ]
     },
     "execution_count": 398,
     "metadata": {},
     "output_type": "execute_result"
    }
   ],
   "source": [
    "#function usage example\n",
    "# will use these as my trip dates\n",
    "calc_temps('2012-02-28', '2012-03-05')"
   ]
  },
  {
   "cell_type": "code",
   "execution_count": 399,
   "metadata": {},
   "outputs": [
    {
     "data": {
      "text/plain": [
       "{'Min': 61, 'Max': 75, 'Avg': 69.75510204081633}"
      ]
     },
     "execution_count": 399,
     "metadata": {},
     "output_type": "execute_result"
    }
   ],
   "source": [
    "# Use your previous function `calc_temps` to calculate the tmin, tavg, and tmax \n",
    "# for your trip using the previous year's data for those same dates.\n",
    "calc_temps('2011-02-28', '2011-03-05')"
   ]
  },
  {
   "cell_type": "code",
   "execution_count": 400,
   "metadata": {},
   "outputs": [
    {
     "data": {
      "image/png": "[encoded data removed]",
      "text/plain": [
       "<Figure size 360x720 with 1 Axes>"
      ]
     },
     "metadata": {},
     "output_type": "display_data"
    }
   ],
   "source": [
    "# Plot the results from your previous query as a bar chart. \n",
    "# Use \"Trip Avg Temp\" as your Title\n",
    "# Use the average temperature for the y value\n",
    "# Use the peak-to-peak (tmax-tmin) value as the y error bar (yerr)\n",
    "\n",
    "\n",
    "fig, ax = plt.subplots()\n",
    "fig.set_figheight(10)\n",
    "fig.set_figwidth(5)\n",
    "ax.get_xaxis().set_ticks([])\n",
    "plt.ylabel(\"Temp (F)\")\n",
    "plt.title(\"Trip Avg Temp\")\n",
    "error = 74-62\n",
    "ax.bar(\"2012-02-28 to 2012-03-05\", 69.57142857142857, color = \"salmon\", yerr=error)\n",
    "ax.grid(True)\n"
   ]
  },
  {
   "cell_type": "code",
   "execution_count": 401,
   "metadata": {},
   "outputs": [
    {
     "data": {
      "text/html": [
       "<div>\n",
       "<style scoped>\n",
       "    .dataframe tbody tr th:only-of-type {\n",
       "        vertical-align: middle;\n",
       "    }\n",
       "\n",
       "    .dataframe tbody tr th {\n",
       "        vertical-align: top;\n",
       "    }\n",
       "\n",
       "    .dataframe thead th {\n",
       "        text-align: right;\n",
       "    }\n",
       "</style>\n",
       "<table border=\"1\" class=\"dataframe\">\n",
       "  <thead>\n",
       "    <tr style=\"text-align: right;\">\n",
       "      <th></th>\n",
       "      <th>station</th>\n",
       "      <th>name</th>\n",
       "      <th>prcp</th>\n",
       "      <th>latitude</th>\n",
       "      <th>longitude</th>\n",
       "      <th>name</th>\n",
       "    </tr>\n",
       "  </thead>\n",
       "  <tbody>\n",
       "    <tr>\n",
       "      <th>0</th>\n",
       "      <td>USC00518838</td>\n",
       "      <td>UPPER WAHIAWA 874.3, HI US</td>\n",
       "      <td>2.33</td>\n",
       "      <td>107.49600</td>\n",
       "      <td>-790.05550</td>\n",
       "      <td>UPPER WAHIAWA 874.3, HI US</td>\n",
       "    </tr>\n",
       "    <tr>\n",
       "      <th>1</th>\n",
       "      <td>USC00519281</td>\n",
       "      <td>WAIHEE 837.5, HI US</td>\n",
       "      <td>2.23</td>\n",
       "      <td>128.71002</td>\n",
       "      <td>-947.09334</td>\n",
       "      <td>WAIHEE 837.5, HI US</td>\n",
       "    </tr>\n",
       "    <tr>\n",
       "      <th>2</th>\n",
       "      <td>USC00519523</td>\n",
       "      <td>WAIMANALO EXPERIMENTAL FARM, HI US</td>\n",
       "      <td>2.19</td>\n",
       "      <td>128.01336</td>\n",
       "      <td>-946.26834</td>\n",
       "      <td>WAIMANALO EXPERIMENTAL FARM, HI US</td>\n",
       "    </tr>\n",
       "    <tr>\n",
       "      <th>3</th>\n",
       "      <td>USC00514830</td>\n",
       "      <td>KUALOA RANCH HEADQUARTERS 886.9, HI US</td>\n",
       "      <td>1.96</td>\n",
       "      <td>129.12780</td>\n",
       "      <td>-947.02440</td>\n",
       "      <td>KUALOA RANCH HEADQUARTERS 886.9, HI US</td>\n",
       "    </tr>\n",
       "    <tr>\n",
       "      <th>4</th>\n",
       "      <td>USC00516128</td>\n",
       "      <td>MANOA LYON ARBO 785.2, HI US</td>\n",
       "      <td>1.45</td>\n",
       "      <td>127.99860</td>\n",
       "      <td>-946.81500</td>\n",
       "      <td>MANOA LYON ARBO 785.2, HI US</td>\n",
       "    </tr>\n",
       "    <tr>\n",
       "      <th>5</th>\n",
       "      <td>USC00513117</td>\n",
       "      <td>KANEOHE 838.1, HI US</td>\n",
       "      <td>1.44</td>\n",
       "      <td>128.54040</td>\n",
       "      <td>-946.80900</td>\n",
       "      <td>KANEOHE 838.1, HI US</td>\n",
       "    </tr>\n",
       "    <tr>\n",
       "      <th>6</th>\n",
       "      <td>USC00519397</td>\n",
       "      <td>WAIKIKI 717.2, HI US</td>\n",
       "      <td>1.38</td>\n",
       "      <td>127.62960</td>\n",
       "      <td>-946.90080</td>\n",
       "      <td>WAIKIKI 717.2, HI US</td>\n",
       "    </tr>\n",
       "    <tr>\n",
       "      <th>7</th>\n",
       "      <td>USC00511918</td>\n",
       "      <td>HONOLULU OBSERVATORY 702.2, HI US</td>\n",
       "      <td>0.63</td>\n",
       "      <td>106.57600</td>\n",
       "      <td>-789.99600</td>\n",
       "      <td>HONOLULU OBSERVATORY 702.2, HI US</td>\n",
       "    </tr>\n",
       "    <tr>\n",
       "      <th>8</th>\n",
       "      <td>USC00517948</td>\n",
       "      <td>PEARL CITY, HI US</td>\n",
       "      <td>0.00</td>\n",
       "      <td>64.18020</td>\n",
       "      <td>-473.92530</td>\n",
       "      <td>PEARL CITY, HI US</td>\n",
       "    </tr>\n",
       "  </tbody>\n",
       "</table>\n",
       "</div>"
      ],
      "text/plain": [
       "       station                                    name  prcp   latitude  \\\n",
       "0  USC00518838              UPPER WAHIAWA 874.3, HI US  2.33  107.49600   \n",
       "1  USC00519281                     WAIHEE 837.5, HI US  2.23  128.71002   \n",
       "2  USC00519523      WAIMANALO EXPERIMENTAL FARM, HI US  2.19  128.01336   \n",
       "3  USC00514830  KUALOA RANCH HEADQUARTERS 886.9, HI US  1.96  129.12780   \n",
       "4  USC00516128            MANOA LYON ARBO 785.2, HI US  1.45  127.99860   \n",
       "5  USC00513117                    KANEOHE 838.1, HI US  1.44  128.54040   \n",
       "6  USC00519397                    WAIKIKI 717.2, HI US  1.38  127.62960   \n",
       "7  USC00511918       HONOLULU OBSERVATORY 702.2, HI US  0.63  106.57600   \n",
       "8  USC00517948                       PEARL CITY, HI US  0.00   64.18020   \n",
       "\n",
       "   longitude                                    name  \n",
       "0 -790.05550              UPPER WAHIAWA 874.3, HI US  \n",
       "1 -947.09334                     WAIHEE 837.5, HI US  \n",
       "2 -946.26834      WAIMANALO EXPERIMENTAL FARM, HI US  \n",
       "3 -947.02440  KUALOA RANCH HEADQUARTERS 886.9, HI US  \n",
       "4 -946.81500            MANOA LYON ARBO 785.2, HI US  \n",
       "5 -946.80900                    KANEOHE 838.1, HI US  \n",
       "6 -946.90080                    WAIKIKI 717.2, HI US  \n",
       "7 -789.99600       HONOLULU OBSERVATORY 702.2, HI US  \n",
       "8 -473.92530                       PEARL CITY, HI US  "
      ]
     },
     "execution_count": 401,
     "metadata": {},
     "output_type": "execute_result"
    }
   ],
   "source": [
    "# Calculate the total amount of rainfall per weather station for your trip dates using the previous year's matching dates.\n",
    "# Sort this in descending order by precipitation amount and list the station, name, latitude, longitude, and elevation\n",
    "him = pd.read_csv(\"Resources/hawaii_measurements.csv\")\n",
    "his = pd.read_csv(\"Resources/hawaii_stations.csv\")\n",
    "\n",
    "hawaii_merge = pd.merge(him, his, on=\"station\")\n",
    "hawaii_merge\n",
    "hawaii_merge['date'] = pd.to_datetime(hawaii_merge['date'],format=\"%Y/%m/%d\")\n",
    "\n",
    "td1 = dt.datetime.strptime(\"2011-02-28\", '%Y-%m-%d')\n",
    "td2 = dt.datetime.strptime(\"2011-03-05\", '%Y-%m-%d')\n",
    "\n",
    "hawaii_merge2 = pd.DataFrame(hawaii_merge.loc[(hawaii_merge[\"date\"] >= td1) & (hawaii_merge[\"date\"] <= td2), : ])\n",
    "hawaii_merge2\n",
    "\n",
    "hawaii_merge3 = pd.DataFrame(hawaii_merge2.groupby(\"station\").sum().head(12)).sort_values(\"prcp\", ascending=False)\n",
    "hawaii_merge3\n",
    "\n",
    "hawaii_name = pd.DataFrame(his[[\"station\",\"name\"]])\n",
    "hawaii_name\n",
    "hawaii_merge4 = pd.merge(hawaii_merge3, hawaii_name, on=\"station\")\n",
    "hawaii_merge4\n",
    "hawaii_final = pd.DataFrame(hawaii_merge4[['station', 'name', 'prcp', 'latitude', 'longitude', 'name']])\n",
    "hawaii_final"
   ]
  },
  {
   "cell_type": "markdown",
   "metadata": {},
   "source": [
    "## Optional Challenge Assignment"
   ]
  },
  {
   "cell_type": "code",
   "execution_count": 402,
   "metadata": {},
   "outputs": [
    {
     "data": {
      "text/plain": [
       "(62, 77, 69.15384615384616)"
      ]
     },
     "execution_count": 402,
     "metadata": {},
     "output_type": "execute_result"
    }
   ],
   "source": [
    "# Create a query that will calculate the daily normals \n",
    "# (i.e. the averages for tmin, tmax, and tavg for all historic data matching a specific month and day)\n",
    "\n",
    "def daily_normals(date):\n",
    "    \"\"\"Daily Normals.\n",
    "    \n",
    "    #Args:\n",
    "       # date (str): A date string in the format '%m-%d'\n",
    "        \n",
    "   # Returns:\n",
    "       # A list of tuples containing the daily normals, tmin, tavg, and tmax\n",
    "    \n",
    "   # \"\"\"\n",
    "    \n",
    "\n",
    "\n",
    "    him2 = pd.read_csv(\"Resources/hawaii_measurements.csv\")\n",
    "    him3 = pd.DataFrame(him2[['date','tobs']])\n",
    "    month_day\n",
    "    him3\n",
    "    \n",
    "\n",
    "    him4 = pd.DataFrame(him3.loc[him3[\"date\"].str.contains(date)])\n",
    "    him4\n",
    "    dnmin = him4[\"tobs\"].min()\n",
    "    dnmax = him4[\"tobs\"].max()\n",
    "    dnmean = him4[\"tobs\"].mean()\n",
    "    \n",
    "    return(dnmin, dnmax, dnmean)\n",
    "    \n",
    "    \n",
    "    \n",
    "\n",
    "    \n",
    "daily_normals(\"01-01\")"
   ]
  },
  {
   "cell_type": "code",
   "execution_count": 403,
   "metadata": {},
   "outputs": [
    {
     "data": {
      "text/plain": [
       "[(65, 80, 70.65517241379311),\n",
       " (64, 76, 70.0327868852459),\n",
       " (61, 78, 70.36666666666666),\n",
       " (60, 78, 70.06896551724138),\n",
       " (57, 77, 69.27272727272727),\n",
       " (60, 76, 67.89090909090909)]"
      ]
     },
     "execution_count": 403,
     "metadata": {},
     "output_type": "execute_result"
    }
   ],
   "source": [
    "# calculate the daily normals for your trip\n",
    "# push each tuple of calculations into a list called `normals`\n",
    "\n",
    "# Set the start and end date of the trip\n",
    "sd_dn = \"2011-02-28\"\n",
    "ed_dn = \"2011-03-05\"\n",
    "\n",
    "# Use the start and end date to create a range of dates\n",
    "date_list = pd.date_range(start=sd_dn, end=ed_dn)\n",
    "date_list\n",
    "# Stip off the year and save a list of %m-%d strings\n",
    "stip_list = [\"02-28\", \"03-01\", \"03-02\", \"03-03\", \"03-04\", \"03-05\"]\n",
    "normals = []\n",
    "for i in stip_list:\n",
    "    a = daily_normals(i)\n",
    "    normals.append(a)\n",
    "normals\n",
    "# Loop through the list of %m-%d strings and calculate the normals for each date\n"
   ]
  },
  {
   "cell_type": "code",
   "execution_count": 404,
   "metadata": {},
   "outputs": [
    {
     "data": {
      "text/html": [
       "<div>\n",
       "<style scoped>\n",
       "    .dataframe tbody tr th:only-of-type {\n",
       "        vertical-align: middle;\n",
       "    }\n",
       "\n",
       "    .dataframe tbody tr th {\n",
       "        vertical-align: top;\n",
       "    }\n",
       "\n",
       "    .dataframe thead th {\n",
       "        text-align: right;\n",
       "    }\n",
       "</style>\n",
       "<table border=\"1\" class=\"dataframe\">\n",
       "  <thead>\n",
       "    <tr style=\"text-align: right;\">\n",
       "      <th></th>\n",
       "      <th>tmin</th>\n",
       "      <th>tmax</th>\n",
       "      <th>tavg</th>\n",
       "    </tr>\n",
       "    <tr>\n",
       "      <th>date</th>\n",
       "      <th></th>\n",
       "      <th></th>\n",
       "      <th></th>\n",
       "    </tr>\n",
       "  </thead>\n",
       "  <tbody>\n",
       "    <tr>\n",
       "      <th>2011-02-28</th>\n",
       "      <td>65</td>\n",
       "      <td>80</td>\n",
       "      <td>70.655172</td>\n",
       "    </tr>\n",
       "    <tr>\n",
       "      <th>2011-03-01</th>\n",
       "      <td>64</td>\n",
       "      <td>76</td>\n",
       "      <td>70.032787</td>\n",
       "    </tr>\n",
       "    <tr>\n",
       "      <th>2011-03-02</th>\n",
       "      <td>61</td>\n",
       "      <td>78</td>\n",
       "      <td>70.366667</td>\n",
       "    </tr>\n",
       "    <tr>\n",
       "      <th>2011-03-03</th>\n",
       "      <td>60</td>\n",
       "      <td>78</td>\n",
       "      <td>70.068966</td>\n",
       "    </tr>\n",
       "    <tr>\n",
       "      <th>2011-03-04</th>\n",
       "      <td>57</td>\n",
       "      <td>77</td>\n",
       "      <td>69.272727</td>\n",
       "    </tr>\n",
       "    <tr>\n",
       "      <th>2011-03-05</th>\n",
       "      <td>60</td>\n",
       "      <td>76</td>\n",
       "      <td>67.890909</td>\n",
       "    </tr>\n",
       "  </tbody>\n",
       "</table>\n",
       "</div>"
      ],
      "text/plain": [
       "            tmin  tmax       tavg\n",
       "date                             \n",
       "2011-02-28    65    80  70.655172\n",
       "2011-03-01    64    76  70.032787\n",
       "2011-03-02    61    78  70.366667\n",
       "2011-03-03    60    78  70.068966\n",
       "2011-03-04    57    77  69.272727\n",
       "2011-03-05    60    76  67.890909"
      ]
     },
     "execution_count": 404,
     "metadata": {},
     "output_type": "execute_result"
    }
   ],
   "source": [
    "# Load the previous query results into a Pandas DataFrame and add the `trip_dates` range as the `date` index\n",
    "normals_df = pd.DataFrame(normals, columns=['tmin', 'tmax', 'tavg'])\n",
    "normals_df[\"date\"] = date_list\n",
    "normals_df\n",
    "normals_df.set_index(\"date\", inplace=True)\n",
    "normals_df"
   ]
  },
  {
   "cell_type": "code",
   "execution_count": 405,
   "metadata": {},
   "outputs": [
    {
     "data": {
      "image/png": "[encoded data removed]",
      "text/plain": [
       "<Figure size 720x720 with 1 Axes>"
      ]
     },
     "metadata": {},
     "output_type": "display_data"
    }
   ],
   "source": [
    "# Plot the daily normals as an area plot with `stacked=False`\n",
    "\n",
    "from pandas.plotting import register_matplotlib_converters\n",
    "register_matplotlib_converters()\n",
    "\n",
    "x = normals_df.index.values\n",
    "y1 = normals_df[\"tmin\"]\n",
    "y2 = normals_df[\"tmax\"]\n",
    "y3 = normals_df[\"tavg\"]\n",
    "\n",
    "\n",
    "fig, ax = plt.subplots()\n",
    "fig.set_figheight(10)\n",
    "fig.set_figwidth(10)\n",
    "\n",
    "ax.plot(x,y1, color=\"blue\", label=\"tmin\")\n",
    "\n",
    "\n",
    "ax.plot(x,y2, color=\"red\", label=\"tmax\")\n",
    "plt.fill_between(x, y2, \"stacked=False\", color=\"pink\")\n",
    "\n",
    "ax.plot(x,y3, color=\"yellow\", label=\"tavg\")\n",
    "\n",
    "plt.fill_between(x, y3, \"stacked=False\", color=\"bisque\")\n",
    "plt.fill_between(x, y1, \"stacked=False\", color=\"lavender\")\n",
    "plt.ylim(0,80)\n",
    "ax.legend(loc='center')\n",
    "ax.grid(True)"
   ]
  }
 ],
 "metadata": {
  "kernel_info": {
   "name": "python3"
  },
  "kernelspec": {
   "display_name": "Python 3",
   "language": "python",
   "name": "python3"
  },
  "language_info": {
   "codemirror_mode": {
    "name": "ipython",
    "version": 3
   },
   "file_extension": ".py",
   "mimetype": "text/x-python",
   "name": "python",
   "nbconvert_exporter": "python",
   "pygments_lexer": "ipython3",
   "version": "3.7.3"
  },
  "nteract": {
   "version": "0.12.3"
  },
  "varInspector": {
   "cols": {
    "lenName": 16,
    "lenType": 16,
    "lenVar": 40
   },
   "kernels_config": {
    "python": {
     "delete_cmd_postfix": "",
     "delete_cmd_prefix": "del ",
     "library": "var_list.py",
     "varRefreshCmd": "print(var_dic_list())"
    },
    "r": {
     "delete_cmd_postfix": ") ",
     "delete_cmd_prefix": "rm(",
     "library": "var_list.r",
     "varRefreshCmd": "cat(var_dic_list()) "
    }
   },
   "types_to_exclude": [
    "module",
    "function",
    "builtin_function_or_method",
    "instance",
    "_Feature"
   ],
   "window_display": false
  }
 },
 "nbformat": 4,
 "nbformat_minor": 2
}
